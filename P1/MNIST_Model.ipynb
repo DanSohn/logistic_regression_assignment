{
  "nbformat": 4,
  "nbformat_minor": 0,
  "metadata": {
    "colab": {
      "name": "MNIST_Model.ipynb",
      "provenance": [],
      "collapsed_sections": []
    },
    "kernelspec": {
      "name": "python3",
      "display_name": "Python 3"
    }
  },
  "cells": [
    {
      "cell_type": "code",
      "metadata": {
        "id": "H8cI4g97HslL",
        "colab_type": "code",
        "outputId": "924ff16a-7ac4-4b12-82ee-c9276b10d008",
        "colab": {
          "base_uri": "https://localhost:8080/",
          "height": 34
        }
      },
      "source": [
        "try:\n",
        "  %tensorflow_version 2.x\n",
        "except Exception:\n",
        "  pass"
      ],
      "execution_count": 0,
      "outputs": [
        {
          "output_type": "stream",
          "text": [
            "TensorFlow 2.x selected.\n"
          ],
          "name": "stdout"
        }
      ]
    },
    {
      "cell_type": "code",
      "metadata": {
        "id": "gDVWLiIIJyCw",
        "colab_type": "code",
        "outputId": "96a9b1e3-113a-483d-ac80-6922c014da0e",
        "colab": {
          "base_uri": "https://localhost:8080/",
          "height": 510
        }
      },
      "source": [
        "import tensorflow as tf\n",
        "\n",
        "# getting the data \n",
        "mnist = tf.keras.datasets.mnist\n",
        "(x_train, y_train), (x_test, y_test) = mnist.load_data()\n",
        "# processing data\n",
        "# we need to level color data to 0 to 1 range\n",
        "x_train, x_test = x_train/255.0, x_test/255.0\n",
        "\n",
        "# make model\n",
        "model = tf.keras.models.Sequential([\n",
        "  tf.keras.layers.Flatten(input_shape=(28, 28)),\n",
        "  tf.keras.layers.Dense(512, activation='relu'),\n",
        "  tf.keras.layers.Dropout(0.1),\n",
        "  tf.keras.layers.Dense(1024, activation='sigmoid'),\n",
        "  tf.keras.layers.Dropout(0.1),\n",
        "  tf.keras.layers.Dense(256, activation='softmax')\n",
        "])\n",
        "\n",
        "# specify loss function\n",
        "model.compile(\n",
        "  optimizer='adam',\n",
        "  loss='sparse_categorical_crossentropy',\n",
        "  metrics=['accuracy'])\n",
        "\n",
        "# train our model and evaluate it's quality\n",
        "model.fit(x_train, y_train, epochs=10)\n",
        "\n",
        "print(\"--train--\")\n",
        "model_loss, model_acc = model.evaluate(x_train,  y_train, verbose=2)\n",
        "print(f\"Model Loss:    {model_loss:.2f}\")\n",
        "print(f\"Model Accuray: {model_acc*100:.1f}%\")\n",
        "print(\"--test--\")\n",
        "model_loss, model_acc = model.evaluate(x_test,  y_test, verbose=2)\n",
        "print(f\"Model Loss:    {model_loss:.2f}\")\n",
        "print(f\"Model Accuray: {model_acc*100:.1f}%\")\n",
        "\n"
      ],
      "execution_count": 21,
      "outputs": [
        {
          "output_type": "stream",
          "text": [
            "Train on 60000 samples\n",
            "Epoch 1/10\n",
            "60000/60000 [==============================] - 28s 475us/sample - loss: 0.2257 - accuracy: 0.9316\n",
            "Epoch 2/10\n",
            "60000/60000 [==============================] - 28s 467us/sample - loss: 0.0932 - accuracy: 0.9707\n",
            "Epoch 3/10\n",
            "60000/60000 [==============================] - 29s 487us/sample - loss: 0.0647 - accuracy: 0.9791\n",
            "Epoch 4/10\n",
            "60000/60000 [==============================] - 29s 486us/sample - loss: 0.0502 - accuracy: 0.9842\n",
            "Epoch 5/10\n",
            "60000/60000 [==============================] - 29s 485us/sample - loss: 0.0388 - accuracy: 0.9873\n",
            "Epoch 6/10\n",
            "60000/60000 [==============================] - 30s 495us/sample - loss: 0.0335 - accuracy: 0.9889\n",
            "Epoch 7/10\n",
            "60000/60000 [==============================] - 31s 521us/sample - loss: 0.0273 - accuracy: 0.9911\n",
            "Epoch 8/10\n",
            "60000/60000 [==============================] - 31s 519us/sample - loss: 0.0247 - accuracy: 0.9919\n",
            "Epoch 9/10\n",
            "60000/60000 [==============================] - 31s 523us/sample - loss: 0.0203 - accuracy: 0.9936\n",
            "Epoch 10/10\n",
            "60000/60000 [==============================] - 31s 511us/sample - loss: 0.0196 - accuracy: 0.9934\n",
            "--train--\n",
            "60000/1 - 8s - loss: 0.0047 - accuracy: 0.9966\n",
            "Model Loss:    0.01\n",
            "Model Accuray: 99.7%\n",
            "--test--\n",
            "10000/1 - 1s - loss: 0.0366 - accuracy: 0.9834\n",
            "Model Loss:    0.07\n",
            "Model Accuray: 98.3%\n"
          ],
          "name": "stdout"
        }
      ]
    },
    {
      "cell_type": "code",
      "metadata": {
        "id": "zeeXIXI9HAgv",
        "colab_type": "code",
        "colab": {}
      },
      "source": [
        "model.save('MNIST_fix.h5')"
      ],
      "execution_count": 0,
      "outputs": []
    },
    {
      "cell_type": "code",
      "metadata": {
        "id": "Kc1L0gQNHEPm",
        "colab_type": "code",
        "colab": {}
      },
      "source": [
        "from google.colab import files\n",
        "files.download('MNIST_fix.h5')"
      ],
      "execution_count": 0,
      "outputs": []
    }
  ]
}