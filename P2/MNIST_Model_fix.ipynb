{
  "nbformat": 4,
  "nbformat_minor": 0,
  "metadata": {
    "colab": {
      "name": "MNIST_Model_fix.ipynb",
      "provenance": [],
      "collapsed_sections": []
    },
    "kernelspec": {
      "name": "python3",
      "display_name": "Python 3"
    }
  },
  "cells": [
    {
      "cell_type": "code",
      "metadata": {
        "id": "H8cI4g97HslL",
        "colab_type": "code",
        "outputId": "924ff16a-7ac4-4b12-82ee-c9276b10d008",
        "colab": {
          "base_uri": "https://localhost:8080/",
          "height": 34
        }
      },
      "source": [
        "try:\n",
        "  %tensorflow_version 2.x\n",
        "except Exception:\n",
        "  pass"
      ],
      "execution_count": 0,
      "outputs": [
        {
          "output_type": "stream",
          "text": [
            "TensorFlow 2.x selected.\n"
          ],
          "name": "stdout"
        }
      ]
    },
    {
      "cell_type": "code",
      "metadata": {
        "id": "gDVWLiIIJyCw",
        "colab_type": "code",
        "outputId": "211623e3-3876-412e-d5e2-6c537ff376a4",
        "colab": {
          "base_uri": "https://localhost:8080/",
          "height": 510
        }
      },
      "source": [
        "import tensorflow as tf\n",
        "\n",
        "# getting the data \n",
        "mnist = tf.keras.datasets.mnist\n",
        "(x_train, y_train), (x_test, y_test) = mnist.load_data()\n",
        "# processing data\n",
        "# we need to level color data to 0 to 1 range\n",
        "x_train, x_test = x_train/255.0, x_test/255.0\n",
        "\n",
        "# make model\n",
        "model = tf.keras.models.Sequential([\n",
        "  tf.keras.layers.Flatten(input_shape=(28, 28)),\n",
        "  tf.keras.layers.Dense(10, activation='elu'),\n",
        "  tf.keras.layers.Dropout(0.2),\n",
        "  tf.keras.layers.Dense(1024, activation='relu'),\n",
        "  tf.keras.layers.Dropout(0.3),\n",
        "  tf.keras.layers.Dense(10, activation='softmax')\n",
        "])\n",
        "\n",
        "# specify loss function\n",
        "model.compile(\n",
        "  optimizer='adam',\n",
        "  loss='sparse_categorical_crossentropy',\n",
        "  metrics=['accuracy'])\n",
        "\n",
        "# train our model and evaluate it's quality\n",
        "model.fit(x_train, y_train, epochs=10)\n",
        "\n",
        "print(\"--train--\")\n",
        "model_loss, model_acc = model.evaluate(x_train,  y_train, verbose=2)\n",
        "print(f\"Model Loss:    {model_loss:.2f}\")\n",
        "print(f\"Model Accuray: {model_acc*100:.1f}%\")\n",
        "print(\"--test--\")\n",
        "model_loss, model_acc = model.evaluate(x_test,  y_test, verbose=2)\n",
        "print(f\"Model Loss:    {model_loss:.2f}\")\n",
        "print(f\"Model Accuray: {model_acc*100:.1f}%\")\n",
        "\n"
      ],
      "execution_count": 0,
      "outputs": [
        {
          "output_type": "stream",
          "text": [
            "Train on 60000 samples\n",
            "Epoch 1/10\n",
            "60000/60000 [==============================] - 7s 119us/sample - loss: 0.5384 - accuracy: 0.8275\n",
            "Epoch 2/10\n",
            "60000/60000 [==============================] - 7s 115us/sample - loss: 0.3901 - accuracy: 0.8778\n",
            "Epoch 3/10\n",
            "60000/60000 [==============================] - 7s 120us/sample - loss: 0.3622 - accuracy: 0.8867\n",
            "Epoch 4/10\n",
            "60000/60000 [==============================] - 7s 112us/sample - loss: 0.3463 - accuracy: 0.8906\n",
            "Epoch 5/10\n",
            "60000/60000 [==============================] - 7s 111us/sample - loss: 0.3328 - accuracy: 0.8952\n",
            "Epoch 6/10\n",
            "60000/60000 [==============================] - 7s 117us/sample - loss: 0.3172 - accuracy: 0.8995\n",
            "Epoch 7/10\n",
            "60000/60000 [==============================] - 7s 113us/sample - loss: 0.3145 - accuracy: 0.8992\n",
            "Epoch 8/10\n",
            "60000/60000 [==============================] - 7s 112us/sample - loss: 0.3101 - accuracy: 0.9009\n",
            "Epoch 9/10\n",
            "60000/60000 [==============================] - 7s 110us/sample - loss: 0.3025 - accuracy: 0.9032\n",
            "Epoch 10/10\n",
            "60000/60000 [==============================] - 7s 110us/sample - loss: 0.2989 - accuracy: 0.9051\n",
            "--train--\n",
            "60000/1 - 2s - loss: 0.1094 - accuracy: 0.9520\n",
            "Model Loss:    0.15\n",
            "Model Accuray: 95.2%\n",
            "--test--\n",
            "10000/1 - 0s - loss: 0.0947 - accuracy: 0.9474\n",
            "Model Loss:    0.17\n",
            "Model Accuray: 94.7%\n"
          ],
          "name": "stdout"
        }
      ]
    },
    {
      "cell_type": "code",
      "metadata": {
        "id": "zeeXIXI9HAgv",
        "colab_type": "code",
        "colab": {}
      },
      "source": [
        "model.save('MNIST_fix.h5')"
      ],
      "execution_count": 0,
      "outputs": []
    },
    {
      "cell_type": "code",
      "metadata": {
        "id": "Kc1L0gQNHEPm",
        "colab_type": "code",
        "colab": {}
      },
      "source": [
        "from google.colab import files\n",
        "files.download('MNIST_fix.h5')"
      ],
      "execution_count": 0,
      "outputs": []
    }
  ]
}